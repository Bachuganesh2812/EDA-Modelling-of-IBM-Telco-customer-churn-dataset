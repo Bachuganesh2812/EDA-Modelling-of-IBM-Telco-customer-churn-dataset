{
 "cells": [
  {
   "cell_type": "code",
   "execution_count": 1,
   "id": "62dbe18a",
   "metadata": {
    "_cell_guid": "b1076dfc-b9ad-4769-8c92-a6c4dae69d19",
    "_uuid": "8f2839f25d086af736a60e9eeb907d3b93b6e0e5",
    "execution": {
     "iopub.execute_input": "2024-04-13T09:19:32.836097Z",
     "iopub.status.busy": "2024-04-13T09:19:32.835646Z",
     "iopub.status.idle": "2024-04-13T09:19:32.841571Z",
     "shell.execute_reply": "2024-04-13T09:19:32.840503Z"
    },
    "papermill": {
     "duration": 0.016269,
     "end_time": "2024-04-13T09:19:32.843840",
     "exception": false,
     "start_time": "2024-04-13T09:19:32.827571",
     "status": "completed"
    },
    "tags": []
   },
   "outputs": [],
   "source": [
    "# # This Python 3 environment comes with many helpful analytics libraries installed\n",
    "# # It is defined by the kaggle/python Docker image: https://github.com/kaggle/docker-python\n",
    "# # For example, here's several helpful packages to load\n",
    "\n",
    "# import numpy as np # linear algebra\n",
    "# import pandas as pd # data processing, CSV file I/O (e.g. pd.read_csv)\n",
    "\n",
    "# # Input data files are available in the read-only \"../input/\" directory\n",
    "# # For example, running this (by clicking run or pressing Shift+Enter) will list all files under the input directory\n",
    "\n",
    "# import os\n",
    "# for dirname, _, filenames in os.walk('/kaggle/input'):\n",
    "#     for filename in filenames:\n",
    "#         print(os.path.join(dirname, filename))\n",
    "\n",
    "# # You can write up to 20GB to the current directory (/kaggle/working/) that gets preserved as output when you create a version using \"Save & Run All\" \n",
    "# # You can also write temporary files to /kaggle/temp/, but they won't be saved outside of the current session"
   ]
  },
  {
   "cell_type": "code",
   "execution_count": 2,
   "id": "6bbfc0cf",
   "metadata": {
    "execution": {
     "iopub.execute_input": "2024-04-13T09:19:32.857545Z",
     "iopub.status.busy": "2024-04-13T09:19:32.856785Z",
     "iopub.status.idle": "2024-04-13T09:19:34.972250Z",
     "shell.execute_reply": "2024-04-13T09:19:34.971074Z"
    },
    "papermill": {
     "duration": 2.125263,
     "end_time": "2024-04-13T09:19:34.974883",
     "exception": false,
     "start_time": "2024-04-13T09:19:32.849620",
     "status": "completed"
    },
    "tags": []
   },
   "outputs": [],
   "source": [
    "import matplotlib.pyplot as plt\n",
    "import numpy as np\n",
    "import pandas as pd\n",
    "import seaborn as sns"
   ]
  },
  {
   "cell_type": "code",
   "execution_count": 3,
   "id": "ae455f6f",
   "metadata": {
    "execution": {
     "iopub.execute_input": "2024-04-13T09:19:34.988276Z",
     "iopub.status.busy": "2024-04-13T09:19:34.987734Z",
     "iopub.status.idle": "2024-04-13T09:19:40.762314Z",
     "shell.execute_reply": "2024-04-13T09:19:40.761499Z"
    },
    "papermill": {
     "duration": 5.783731,
     "end_time": "2024-04-13T09:19:40.764502",
     "exception": false,
     "start_time": "2024-04-13T09:19:34.980771",
     "status": "completed"
    },
    "tags": []
   },
   "outputs": [
    {
     "data": {
      "text/html": [
       "<div>\n",
       "<style scoped>\n",
       "    .dataframe tbody tr th:only-of-type {\n",
       "        vertical-align: middle;\n",
       "    }\n",
       "\n",
       "    .dataframe tbody tr th {\n",
       "        vertical-align: top;\n",
       "    }\n",
       "\n",
       "    .dataframe thead th {\n",
       "        text-align: right;\n",
       "    }\n",
       "</style>\n",
       "<table border=\"1\" class=\"dataframe\">\n",
       "  <thead>\n",
       "    <tr style=\"text-align: right;\">\n",
       "      <th></th>\n",
       "      <th>Unnamed: 0</th>\n",
       "      <th>Gender</th>\n",
       "      <th>Age</th>\n",
       "      <th>Married</th>\n",
       "      <th>Number of Dependents</th>\n",
       "      <th>Number of Referrals</th>\n",
       "      <th>Tenure in Months</th>\n",
       "      <th>Offer</th>\n",
       "      <th>Phone Service</th>\n",
       "      <th>Avg Monthly Long Distance Charges</th>\n",
       "      <th>...</th>\n",
       "      <th>Paperless Billing</th>\n",
       "      <th>Payment Method</th>\n",
       "      <th>Monthly Charge</th>\n",
       "      <th>Total Charges</th>\n",
       "      <th>Total Refunds</th>\n",
       "      <th>Total Extra Data Charges</th>\n",
       "      <th>Total Long Distance Charges</th>\n",
       "      <th>Total Revenue</th>\n",
       "      <th>Satisfaction Score</th>\n",
       "      <th>Churn Value</th>\n",
       "    </tr>\n",
       "  </thead>\n",
       "  <tbody>\n",
       "    <tr>\n",
       "      <th>0</th>\n",
       "      <td>0</td>\n",
       "      <td>Male</td>\n",
       "      <td>71</td>\n",
       "      <td>Yes</td>\n",
       "      <td>0</td>\n",
       "      <td>1</td>\n",
       "      <td>69</td>\n",
       "      <td>No Offer</td>\n",
       "      <td>Yes</td>\n",
       "      <td>18.41</td>\n",
       "      <td>...</td>\n",
       "      <td>Yes</td>\n",
       "      <td>Bank Withdrawal</td>\n",
       "      <td>109.95</td>\n",
       "      <td>7634.25</td>\n",
       "      <td>0.0</td>\n",
       "      <td>0</td>\n",
       "      <td>1270.29</td>\n",
       "      <td>8904.54</td>\n",
       "      <td>5</td>\n",
       "      <td>0</td>\n",
       "    </tr>\n",
       "    <tr>\n",
       "      <th>1</th>\n",
       "      <td>1</td>\n",
       "      <td>Female</td>\n",
       "      <td>66</td>\n",
       "      <td>No</td>\n",
       "      <td>0</td>\n",
       "      <td>0</td>\n",
       "      <td>8</td>\n",
       "      <td>Offer E</td>\n",
       "      <td>Yes</td>\n",
       "      <td>5.21</td>\n",
       "      <td>...</td>\n",
       "      <td>Yes</td>\n",
       "      <td>Credit Card</td>\n",
       "      <td>94.45</td>\n",
       "      <td>742.95</td>\n",
       "      <td>0.0</td>\n",
       "      <td>0</td>\n",
       "      <td>41.68</td>\n",
       "      <td>784.63</td>\n",
       "      <td>1</td>\n",
       "      <td>1</td>\n",
       "    </tr>\n",
       "    <tr>\n",
       "      <th>2</th>\n",
       "      <td>2</td>\n",
       "      <td>Male</td>\n",
       "      <td>36</td>\n",
       "      <td>Yes</td>\n",
       "      <td>0</td>\n",
       "      <td>1</td>\n",
       "      <td>17</td>\n",
       "      <td>No Offer</td>\n",
       "      <td>No</td>\n",
       "      <td>0.00</td>\n",
       "      <td>...</td>\n",
       "      <td>No</td>\n",
       "      <td>Mailed Check</td>\n",
       "      <td>34.40</td>\n",
       "      <td>592.75</td>\n",
       "      <td>0.0</td>\n",
       "      <td>0</td>\n",
       "      <td>0.00</td>\n",
       "      <td>592.75</td>\n",
       "      <td>3</td>\n",
       "      <td>0</td>\n",
       "    </tr>\n",
       "    <tr>\n",
       "      <th>3</th>\n",
       "      <td>3</td>\n",
       "      <td>Female</td>\n",
       "      <td>36</td>\n",
       "      <td>Yes</td>\n",
       "      <td>0</td>\n",
       "      <td>0</td>\n",
       "      <td>1</td>\n",
       "      <td>Offer E</td>\n",
       "      <td>No</td>\n",
       "      <td>0.00</td>\n",
       "      <td>...</td>\n",
       "      <td>Yes</td>\n",
       "      <td>Bank Withdrawal</td>\n",
       "      <td>29.85</td>\n",
       "      <td>29.85</td>\n",
       "      <td>0.0</td>\n",
       "      <td>0</td>\n",
       "      <td>0.00</td>\n",
       "      <td>29.85</td>\n",
       "      <td>3</td>\n",
       "      <td>0</td>\n",
       "    </tr>\n",
       "    <tr>\n",
       "      <th>4</th>\n",
       "      <td>4</td>\n",
       "      <td>Male</td>\n",
       "      <td>56</td>\n",
       "      <td>No</td>\n",
       "      <td>0</td>\n",
       "      <td>0</td>\n",
       "      <td>13</td>\n",
       "      <td>No Offer</td>\n",
       "      <td>Yes</td>\n",
       "      <td>46.92</td>\n",
       "      <td>...</td>\n",
       "      <td>Yes</td>\n",
       "      <td>Bank Withdrawal</td>\n",
       "      <td>20.40</td>\n",
       "      <td>251.65</td>\n",
       "      <td>0.0</td>\n",
       "      <td>0</td>\n",
       "      <td>609.96</td>\n",
       "      <td>861.61</td>\n",
       "      <td>5</td>\n",
       "      <td>0</td>\n",
       "    </tr>\n",
       "    <tr>\n",
       "      <th>...</th>\n",
       "      <td>...</td>\n",
       "      <td>...</td>\n",
       "      <td>...</td>\n",
       "      <td>...</td>\n",
       "      <td>...</td>\n",
       "      <td>...</td>\n",
       "      <td>...</td>\n",
       "      <td>...</td>\n",
       "      <td>...</td>\n",
       "      <td>...</td>\n",
       "      <td>...</td>\n",
       "      <td>...</td>\n",
       "      <td>...</td>\n",
       "      <td>...</td>\n",
       "      <td>...</td>\n",
       "      <td>...</td>\n",
       "      <td>...</td>\n",
       "      <td>...</td>\n",
       "      <td>...</td>\n",
       "      <td>...</td>\n",
       "      <td>...</td>\n",
       "    </tr>\n",
       "    <tr>\n",
       "      <th>7038</th>\n",
       "      <td>7082</td>\n",
       "      <td>Female</td>\n",
       "      <td>68</td>\n",
       "      <td>No</td>\n",
       "      <td>0</td>\n",
       "      <td>0</td>\n",
       "      <td>1</td>\n",
       "      <td>Offer E</td>\n",
       "      <td>Yes</td>\n",
       "      <td>45.80</td>\n",
       "      <td>...</td>\n",
       "      <td>Yes</td>\n",
       "      <td>Bank Withdrawal</td>\n",
       "      <td>69.60</td>\n",
       "      <td>69.60</td>\n",
       "      <td>0.0</td>\n",
       "      <td>0</td>\n",
       "      <td>45.80</td>\n",
       "      <td>115.40</td>\n",
       "      <td>2</td>\n",
       "      <td>1</td>\n",
       "    </tr>\n",
       "    <tr>\n",
       "      <th>7039</th>\n",
       "      <td>7083</td>\n",
       "      <td>Female</td>\n",
       "      <td>29</td>\n",
       "      <td>No</td>\n",
       "      <td>0</td>\n",
       "      <td>0</td>\n",
       "      <td>27</td>\n",
       "      <td>No Offer</td>\n",
       "      <td>Yes</td>\n",
       "      <td>1.31</td>\n",
       "      <td>...</td>\n",
       "      <td>Yes</td>\n",
       "      <td>Mailed Check</td>\n",
       "      <td>56.15</td>\n",
       "      <td>1439.35</td>\n",
       "      <td>0.0</td>\n",
       "      <td>0</td>\n",
       "      <td>35.37</td>\n",
       "      <td>1474.72</td>\n",
       "      <td>3</td>\n",
       "      <td>0</td>\n",
       "    </tr>\n",
       "    <tr>\n",
       "      <th>7040</th>\n",
       "      <td>7084</td>\n",
       "      <td>Male</td>\n",
       "      <td>69</td>\n",
       "      <td>No</td>\n",
       "      <td>0</td>\n",
       "      <td>0</td>\n",
       "      <td>66</td>\n",
       "      <td>No Offer</td>\n",
       "      <td>Yes</td>\n",
       "      <td>9.90</td>\n",
       "      <td>...</td>\n",
       "      <td>No</td>\n",
       "      <td>Credit Card</td>\n",
       "      <td>110.90</td>\n",
       "      <td>7432.05</td>\n",
       "      <td>0.0</td>\n",
       "      <td>0</td>\n",
       "      <td>653.40</td>\n",
       "      <td>8085.45</td>\n",
       "      <td>3</td>\n",
       "      <td>1</td>\n",
       "    </tr>\n",
       "    <tr>\n",
       "      <th>7041</th>\n",
       "      <td>7085</td>\n",
       "      <td>Male</td>\n",
       "      <td>53</td>\n",
       "      <td>No</td>\n",
       "      <td>0</td>\n",
       "      <td>0</td>\n",
       "      <td>31</td>\n",
       "      <td>No Offer</td>\n",
       "      <td>Yes</td>\n",
       "      <td>9.27</td>\n",
       "      <td>...</td>\n",
       "      <td>Yes</td>\n",
       "      <td>Bank Withdrawal</td>\n",
       "      <td>103.45</td>\n",
       "      <td>3066.45</td>\n",
       "      <td>0.0</td>\n",
       "      <td>0</td>\n",
       "      <td>287.37</td>\n",
       "      <td>3353.82</td>\n",
       "      <td>3</td>\n",
       "      <td>1</td>\n",
       "    </tr>\n",
       "    <tr>\n",
       "      <th>7042</th>\n",
       "      <td>7086</td>\n",
       "      <td>Male</td>\n",
       "      <td>47</td>\n",
       "      <td>No</td>\n",
       "      <td>0</td>\n",
       "      <td>0</td>\n",
       "      <td>1</td>\n",
       "      <td>Offer E</td>\n",
       "      <td>Yes</td>\n",
       "      <td>1.13</td>\n",
       "      <td>...</td>\n",
       "      <td>Yes</td>\n",
       "      <td>Bank Withdrawal</td>\n",
       "      <td>90.85</td>\n",
       "      <td>90.85</td>\n",
       "      <td>0.0</td>\n",
       "      <td>0</td>\n",
       "      <td>1.13</td>\n",
       "      <td>91.98</td>\n",
       "      <td>3</td>\n",
       "      <td>1</td>\n",
       "    </tr>\n",
       "  </tbody>\n",
       "</table>\n",
       "<p>7043 rows × 33 columns</p>\n",
       "</div>"
      ],
      "text/plain": [
       "      Unnamed: 0  Gender  Age Married  Number of Dependents  \\\n",
       "0              0    Male   71     Yes                     0   \n",
       "1              1  Female   66      No                     0   \n",
       "2              2    Male   36     Yes                     0   \n",
       "3              3  Female   36     Yes                     0   \n",
       "4              4    Male   56      No                     0   \n",
       "...          ...     ...  ...     ...                   ...   \n",
       "7038        7082  Female   68      No                     0   \n",
       "7039        7083  Female   29      No                     0   \n",
       "7040        7084    Male   69      No                     0   \n",
       "7041        7085    Male   53      No                     0   \n",
       "7042        7086    Male   47      No                     0   \n",
       "\n",
       "      Number of Referrals  Tenure in Months     Offer Phone Service  \\\n",
       "0                       1                69  No Offer           Yes   \n",
       "1                       0                 8   Offer E           Yes   \n",
       "2                       1                17  No Offer            No   \n",
       "3                       0                 1   Offer E            No   \n",
       "4                       0                13  No Offer           Yes   \n",
       "...                   ...               ...       ...           ...   \n",
       "7038                    0                 1   Offer E           Yes   \n",
       "7039                    0                27  No Offer           Yes   \n",
       "7040                    0                66  No Offer           Yes   \n",
       "7041                    0                31  No Offer           Yes   \n",
       "7042                    0                 1   Offer E           Yes   \n",
       "\n",
       "      Avg Monthly Long Distance Charges  ... Paperless Billing  \\\n",
       "0                                 18.41  ...               Yes   \n",
       "1                                  5.21  ...               Yes   \n",
       "2                                  0.00  ...                No   \n",
       "3                                  0.00  ...               Yes   \n",
       "4                                 46.92  ...               Yes   \n",
       "...                                 ...  ...               ...   \n",
       "7038                              45.80  ...               Yes   \n",
       "7039                               1.31  ...               Yes   \n",
       "7040                               9.90  ...                No   \n",
       "7041                               9.27  ...               Yes   \n",
       "7042                               1.13  ...               Yes   \n",
       "\n",
       "       Payment Method Monthly Charge  Total Charges Total Refunds  \\\n",
       "0     Bank Withdrawal         109.95        7634.25           0.0   \n",
       "1         Credit Card          94.45         742.95           0.0   \n",
       "2        Mailed Check          34.40         592.75           0.0   \n",
       "3     Bank Withdrawal          29.85          29.85           0.0   \n",
       "4     Bank Withdrawal          20.40         251.65           0.0   \n",
       "...               ...            ...            ...           ...   \n",
       "7038  Bank Withdrawal          69.60          69.60           0.0   \n",
       "7039     Mailed Check          56.15        1439.35           0.0   \n",
       "7040      Credit Card         110.90        7432.05           0.0   \n",
       "7041  Bank Withdrawal         103.45        3066.45           0.0   \n",
       "7042  Bank Withdrawal          90.85          90.85           0.0   \n",
       "\n",
       "     Total Extra Data Charges Total Long Distance Charges Total Revenue  \\\n",
       "0                           0                     1270.29       8904.54   \n",
       "1                           0                       41.68        784.63   \n",
       "2                           0                        0.00        592.75   \n",
       "3                           0                        0.00         29.85   \n",
       "4                           0                      609.96        861.61   \n",
       "...                       ...                         ...           ...   \n",
       "7038                        0                       45.80        115.40   \n",
       "7039                        0                       35.37       1474.72   \n",
       "7040                        0                      653.40       8085.45   \n",
       "7041                        0                      287.37       3353.82   \n",
       "7042                        0                        1.13         91.98   \n",
       "\n",
       "     Satisfaction Score Churn Value  \n",
       "0                     5           0  \n",
       "1                     1           1  \n",
       "2                     3           0  \n",
       "3                     3           0  \n",
       "4                     5           0  \n",
       "...                 ...         ...  \n",
       "7038                  2           1  \n",
       "7039                  3           0  \n",
       "7040                  3           1  \n",
       "7041                  3           1  \n",
       "7042                  3           1  \n",
       "\n",
       "[7043 rows x 33 columns]"
      ]
     },
     "execution_count": 3,
     "metadata": {},
     "output_type": "execute_result"
    }
   ],
   "source": [
    "df= pd.read_excel(\"/kaggle/input/capstone-preprocessing/after_preprocessing.xlsx\")\n",
    "df"
   ]
  },
  {
   "cell_type": "code",
   "execution_count": 4,
   "id": "14c3e576",
   "metadata": {
    "execution": {
     "iopub.execute_input": "2024-04-13T09:19:40.779233Z",
     "iopub.status.busy": "2024-04-13T09:19:40.778316Z",
     "iopub.status.idle": "2024-04-13T09:19:40.786022Z",
     "shell.execute_reply": "2024-04-13T09:19:40.784628Z"
    },
    "papermill": {
     "duration": 0.018181,
     "end_time": "2024-04-13T09:19:40.789002",
     "exception": false,
     "start_time": "2024-04-13T09:19:40.770821",
     "status": "completed"
    },
    "tags": []
   },
   "outputs": [
    {
     "data": {
      "text/plain": [
       "Index(['Unnamed: 0', 'Gender', 'Age', 'Married', 'Number of Dependents',\n",
       "       'Number of Referrals', 'Tenure in Months', 'Offer', 'Phone Service',\n",
       "       'Avg Monthly Long Distance Charges', 'Multiple Lines',\n",
       "       'Internet Service', 'Internet Type', 'Avg Monthly GB Download',\n",
       "       'Online Security', 'Online Backup', 'Device Protection Plan',\n",
       "       'Premium Tech Support', 'Streaming TV', 'Streaming Movies',\n",
       "       'Streaming Music', 'Unlimited Data', 'Contract', 'Paperless Billing',\n",
       "       'Payment Method', 'Monthly Charge', 'Total Charges', 'Total Refunds',\n",
       "       'Total Extra Data Charges', 'Total Long Distance Charges',\n",
       "       'Total Revenue', 'Satisfaction Score', 'Churn Value'],\n",
       "      dtype='object')"
      ]
     },
     "execution_count": 4,
     "metadata": {},
     "output_type": "execute_result"
    }
   ],
   "source": [
    "df.columns"
   ]
  },
  {
   "cell_type": "code",
   "execution_count": 5,
   "id": "7bff6f71",
   "metadata": {
    "execution": {
     "iopub.execute_input": "2024-04-13T09:19:40.804130Z",
     "iopub.status.busy": "2024-04-13T09:19:40.802973Z",
     "iopub.status.idle": "2024-04-13T09:19:40.810826Z",
     "shell.execute_reply": "2024-04-13T09:19:40.809765Z"
    },
    "papermill": {
     "duration": 0.017545,
     "end_time": "2024-04-13T09:19:40.813081",
     "exception": false,
     "start_time": "2024-04-13T09:19:40.795536",
     "status": "completed"
    },
    "tags": []
   },
   "outputs": [],
   "source": [
    "df.drop(\"Unnamed: 0\",axis=1,inplace=True)"
   ]
  },
  {
   "cell_type": "code",
   "execution_count": 6,
   "id": "047fa4d4",
   "metadata": {
    "execution": {
     "iopub.execute_input": "2024-04-13T09:19:40.827289Z",
     "iopub.status.busy": "2024-04-13T09:19:40.826878Z",
     "iopub.status.idle": "2024-04-13T09:19:40.855484Z",
     "shell.execute_reply": "2024-04-13T09:19:40.854428Z"
    },
    "papermill": {
     "duration": 0.038896,
     "end_time": "2024-04-13T09:19:40.858301",
     "exception": false,
     "start_time": "2024-04-13T09:19:40.819405",
     "status": "completed"
    },
    "tags": []
   },
   "outputs": [
    {
     "name": "stdout",
     "output_type": "stream",
     "text": [
      "<class 'pandas.core.frame.DataFrame'>\n",
      "RangeIndex: 7043 entries, 0 to 7042\n",
      "Data columns (total 32 columns):\n",
      " #   Column                             Non-Null Count  Dtype  \n",
      "---  ------                             --------------  -----  \n",
      " 0   Gender                             7043 non-null   object \n",
      " 1   Age                                7043 non-null   int64  \n",
      " 2   Married                            7043 non-null   object \n",
      " 3   Number of Dependents               7043 non-null   int64  \n",
      " 4   Number of Referrals                7043 non-null   int64  \n",
      " 5   Tenure in Months                   7043 non-null   int64  \n",
      " 6   Offer                              7043 non-null   object \n",
      " 7   Phone Service                      7043 non-null   object \n",
      " 8   Avg Monthly Long Distance Charges  7043 non-null   float64\n",
      " 9   Multiple Lines                     7043 non-null   object \n",
      " 10  Internet Service                   7043 non-null   object \n",
      " 11  Internet Type                      7043 non-null   object \n",
      " 12  Avg Monthly GB Download            7043 non-null   int64  \n",
      " 13  Online Security                    7043 non-null   object \n",
      " 14  Online Backup                      7043 non-null   object \n",
      " 15  Device Protection Plan             7043 non-null   object \n",
      " 16  Premium Tech Support               7043 non-null   object \n",
      " 17  Streaming TV                       7043 non-null   object \n",
      " 18  Streaming Movies                   7043 non-null   object \n",
      " 19  Streaming Music                    7043 non-null   object \n",
      " 20  Unlimited Data                     7043 non-null   object \n",
      " 21  Contract                           7043 non-null   object \n",
      " 22  Paperless Billing                  7043 non-null   object \n",
      " 23  Payment Method                     7043 non-null   object \n",
      " 24  Monthly Charge                     7043 non-null   float64\n",
      " 25  Total Charges                      7043 non-null   float64\n",
      " 26  Total Refunds                      7043 non-null   float64\n",
      " 27  Total Extra Data Charges           7043 non-null   int64  \n",
      " 28  Total Long Distance Charges        7043 non-null   float64\n",
      " 29  Total Revenue                      7043 non-null   float64\n",
      " 30  Satisfaction Score                 7043 non-null   int64  \n",
      " 31  Churn Value                        7043 non-null   int64  \n",
      "dtypes: float64(6), int64(8), object(18)\n",
      "memory usage: 1.7+ MB\n"
     ]
    }
   ],
   "source": [
    "df.info()"
   ]
  },
  {
   "cell_type": "code",
   "execution_count": 7,
   "id": "ae194f8c",
   "metadata": {
    "execution": {
     "iopub.execute_input": "2024-04-13T09:19:40.873839Z",
     "iopub.status.busy": "2024-04-13T09:19:40.873448Z",
     "iopub.status.idle": "2024-04-13T09:19:40.881056Z",
     "shell.execute_reply": "2024-04-13T09:19:40.880176Z"
    },
    "papermill": {
     "duration": 0.017473,
     "end_time": "2024-04-13T09:19:40.883188",
     "exception": false,
     "start_time": "2024-04-13T09:19:40.865715",
     "status": "completed"
    },
    "tags": []
   },
   "outputs": [],
   "source": [
    "df['Churn']=df['Churn Value'].replace({1: 'Yes', 0: 'No'})"
   ]
  },
  {
   "cell_type": "code",
   "execution_count": 8,
   "id": "0a48d058",
   "metadata": {
    "execution": {
     "iopub.execute_input": "2024-04-13T09:19:40.898966Z",
     "iopub.status.busy": "2024-04-13T09:19:40.898275Z",
     "iopub.status.idle": "2024-04-13T09:19:41.190312Z",
     "shell.execute_reply": "2024-04-13T09:19:41.189555Z"
    },
    "papermill": {
     "duration": 0.302305,
     "end_time": "2024-04-13T09:19:41.192434",
     "exception": false,
     "start_time": "2024-04-13T09:19:40.890129",
     "status": "completed"
    },
    "tags": []
   },
   "outputs": [
    {
     "data": {
      "image/png": "[encoded data removed]",
      "text/plain": [
       "<Figure size 1200x1200 with 1 Axes>"
      ]
     },
     "metadata": {},
     "output_type": "display_data"
    }
   ],
   "source": [
    "plt.figure(figsize=(12, 12))\n",
    "sns.boxplot(y=df['Total Revenue'],x=df['Churn'])\n",
    "plt.xlabel('Total Revenue')\n",
    "plt.show()"
   ]
  },
  {
   "cell_type": "code",
   "execution_count": 9,
   "id": "7f06e74d",
   "metadata": {
    "execution": {
     "iopub.execute_input": "2024-04-13T09:19:41.208395Z",
     "iopub.status.busy": "2024-04-13T09:19:41.207971Z",
     "iopub.status.idle": "2024-04-13T09:19:41.215473Z",
     "shell.execute_reply": "2024-04-13T09:19:41.214324Z"
    },
    "papermill": {
     "duration": 0.018114,
     "end_time": "2024-04-13T09:19:41.217606",
     "exception": false,
     "start_time": "2024-04-13T09:19:41.199492",
     "status": "completed"
    },
    "tags": []
   },
   "outputs": [
    {
     "data": {
      "text/plain": [
       "array(['Two Year', 'Month-to-Month', 'One Year'], dtype=object)"
      ]
     },
     "execution_count": 9,
     "metadata": {},
     "output_type": "execute_result"
    }
   ],
   "source": [
    "df['Contract'].unique()"
   ]
  },
  {
   "cell_type": "code",
   "execution_count": 10,
   "id": "3d7aa155",
   "metadata": {
    "execution": {
     "iopub.execute_input": "2024-04-13T09:19:41.234950Z",
     "iopub.status.busy": "2024-04-13T09:19:41.234599Z",
     "iopub.status.idle": "2024-04-13T09:19:41.592619Z",
     "shell.execute_reply": "2024-04-13T09:19:41.591655Z"
    },
    "papermill": {
     "duration": 0.369233,
     "end_time": "2024-04-13T09:19:41.594947",
     "exception": false,
     "start_time": "2024-04-13T09:19:41.225714",
     "status": "completed"
    },
    "tags": []
   },
   "outputs": [
    {
     "data": {
      "image/png": "[encoded data removed]",
      "text/plain": [
       "<Figure size 1200x1200 with 1 Axes>"
      ]
     },
     "metadata": {},
     "output_type": "display_data"
    }
   ],
   "source": [
    "plt.figure(figsize=(12, 12))\n",
    "sns.boxplot(y=df['Total Revenue'],x=df['Contract'],hue=df['Churn'])\n",
    "plt.xlabel('Total Revenue')\n",
    "plt.show()"
   ]
  },
  {
   "cell_type": "code",
   "execution_count": 11,
   "id": "e16e0bee",
   "metadata": {
    "execution": {
     "iopub.execute_input": "2024-04-13T09:19:41.612619Z",
     "iopub.status.busy": "2024-04-13T09:19:41.612209Z",
     "iopub.status.idle": "2024-04-13T09:19:41.921504Z",
     "shell.execute_reply": "2024-04-13T09:19:41.920427Z"
    },
    "papermill": {
     "duration": 0.320518,
     "end_time": "2024-04-13T09:19:41.923682",
     "exception": false,
     "start_time": "2024-04-13T09:19:41.603164",
     "status": "completed"
    },
    "tags": []
   },
   "outputs": [
    {
     "data": {
      "image/png": "[encoded data removed]",
      "text/plain": [
       "<Figure size 800x800 with 1 Axes>"
      ]
     },
     "metadata": {},
     "output_type": "display_data"
    }
   ],
   "source": [
    "plt.figure(figsize=(8, 8))\n",
    "sns.barplot(y='Total Revenue',x='Contract',data=df)\n",
    "plt.show()"
   ]
  },
  {
   "cell_type": "code",
   "execution_count": 12,
   "id": "f07ea026",
   "metadata": {
    "execution": {
     "iopub.execute_input": "2024-04-13T09:19:41.942029Z",
     "iopub.status.busy": "2024-04-13T09:19:41.941244Z",
     "iopub.status.idle": "2024-04-13T09:19:42.345840Z",
     "shell.execute_reply": "2024-04-13T09:19:42.344585Z"
    },
    "papermill": {
     "duration": 0.416525,
     "end_time": "2024-04-13T09:19:42.348362",
     "exception": false,
     "start_time": "2024-04-13T09:19:41.931837",
     "status": "completed"
    },
    "tags": []
   },
   "outputs": [
    {
     "data": {
      "image/png": "[encoded data removed]",
      "text/plain": [
       "<Figure size 800x800 with 1 Axes>"
      ]
     },
     "metadata": {},
     "output_type": "display_data"
    }
   ],
   "source": [
    "plt.figure(figsize=(8, 8))\n",
    "sns.barplot(x='Churn',y='Total Refunds',hue='Contract',data=df)\n",
    "plt.show()"
   ]
  },
  {
   "cell_type": "code",
   "execution_count": 13,
   "id": "cdd75fc1",
   "metadata": {
    "execution": {
     "iopub.execute_input": "2024-04-13T09:19:42.366748Z",
     "iopub.status.busy": "2024-04-13T09:19:42.366362Z",
     "iopub.status.idle": "2024-04-13T09:19:42.376468Z",
     "shell.execute_reply": "2024-04-13T09:19:42.375128Z"
    },
    "papermill": {
     "duration": 0.021927,
     "end_time": "2024-04-13T09:19:42.378703",
     "exception": false,
     "start_time": "2024-04-13T09:19:42.356776",
     "status": "completed"
    },
    "tags": []
   },
   "outputs": [
    {
     "data": {
      "text/plain": [
       "array([5, 1, 3, 4, 2])"
      ]
     },
     "execution_count": 13,
     "metadata": {},
     "output_type": "execute_result"
    }
   ],
   "source": [
    "df['Satisfaction Score'].unique()"
   ]
  },
  {
   "cell_type": "code",
   "execution_count": 14,
   "id": "28176983",
   "metadata": {
    "execution": {
     "iopub.execute_input": "2024-04-13T09:19:42.397624Z",
     "iopub.status.busy": "2024-04-13T09:19:42.397230Z",
     "iopub.status.idle": "2024-04-13T09:19:42.643624Z",
     "shell.execute_reply": "2024-04-13T09:19:42.642491Z"
    },
    "papermill": {
     "duration": 0.25852,
     "end_time": "2024-04-13T09:19:42.645993",
     "exception": false,
     "start_time": "2024-04-13T09:19:42.387473",
     "status": "completed"
    },
    "tags": []
   },
   "outputs": [
    {
     "data": {
      "image/png": "[encoded data removed]",
      "text/plain": [
       "<Figure size 800x800 with 1 Axes>"
      ]
     },
     "metadata": {},
     "output_type": "display_data"
    }
   ],
   "source": [
    "plt.figure(figsize=(8, 8))\n",
    "sns.countplot(x='Satisfaction Score',data=df,hue='Churn')\n",
    "plt.show()"
   ]
  },
  {
   "cell_type": "code",
   "execution_count": 15,
   "id": "c8a0bb35",
   "metadata": {
    "execution": {
     "iopub.execute_input": "2024-04-13T09:19:42.665625Z",
     "iopub.status.busy": "2024-04-13T09:19:42.665220Z",
     "iopub.status.idle": "2024-04-13T09:19:43.103527Z",
     "shell.execute_reply": "2024-04-13T09:19:43.102719Z"
    },
    "papermill": {
     "duration": 0.450547,
     "end_time": "2024-04-13T09:19:43.105588",
     "exception": false,
     "start_time": "2024-04-13T09:19:42.655041",
     "status": "completed"
    },
    "tags": []
   },
   "outputs": [
    {
     "data": {
      "image/png": "[encoded data removed]",
      "text/plain": [
       "<Figure size 800x800 with 1 Axes>"
      ]
     },
     "metadata": {},
     "output_type": "display_data"
    }
   ],
   "source": [
    "plt.figure(figsize=(8, 8))\n",
    "sns.barplot(y='Satisfaction Score',x='Payment Method',data=df,hue='Churn')\n",
    "plt.show()"
   ]
  },
  {
   "cell_type": "code",
   "execution_count": 16,
   "id": "2582fed8",
   "metadata": {
    "execution": {
     "iopub.execute_input": "2024-04-13T09:19:43.128160Z",
     "iopub.status.busy": "2024-04-13T09:19:43.127572Z",
     "iopub.status.idle": "2024-04-13T09:19:43.534012Z",
     "shell.execute_reply": "2024-04-13T09:19:43.532856Z"
    },
    "papermill": {
     "duration": 0.420454,
     "end_time": "2024-04-13T09:19:43.536754",
     "exception": false,
     "start_time": "2024-04-13T09:19:43.116300",
     "status": "completed"
    },
    "tags": []
   },
   "outputs": [
    {
     "data": {
      "image/png": "[encoded data removed]",
      "text/plain": [
       "<Figure size 800x800 with 1 Axes>"
      ]
     },
     "metadata": {},
     "output_type": "display_data"
    }
   ],
   "source": [
    "plt.figure(figsize=(8, 8))\n",
    "ax = sns.countplot(x='Offer', data=df, hue='Churn')\n",
    "\n",
    "# Add counts on top of the bars\n",
    "for p in ax.patches:\n",
    "    ax.annotate(format(p.get_height(), '.0f'), \n",
    "                (p.get_x() + p.get_width() / 2., p.get_height()), \n",
    "                ha = 'center', va = 'center', \n",
    "                xytext = (0, 9), \n",
    "                textcoords = 'offset points')\n",
    "\n",
    "plt.show()"
   ]
  },
  {
   "cell_type": "code",
   "execution_count": 17,
   "id": "275f16ee",
   "metadata": {
    "execution": {
     "iopub.execute_input": "2024-04-13T09:19:43.558939Z",
     "iopub.status.busy": "2024-04-13T09:19:43.558579Z",
     "iopub.status.idle": "2024-04-13T09:19:52.737179Z",
     "shell.execute_reply": "2024-04-13T09:19:52.735998Z"
    },
    "papermill": {
     "duration": 9.192629,
     "end_time": "2024-04-13T09:19:52.739771",
     "exception": false,
     "start_time": "2024-04-13T09:19:43.547142",
     "status": "completed"
    },
    "tags": []
   },
   "outputs": [],
   "source": [
    "df_location=pd.read_excel('/kaggle/input/capstone-preprocessing/merging all the tables.xlsx')"
   ]
  },
  {
   "cell_type": "code",
   "execution_count": 18,
   "id": "d52fdb59",
   "metadata": {
    "execution": {
     "iopub.execute_input": "2024-04-13T09:19:52.761771Z",
     "iopub.status.busy": "2024-04-13T09:19:52.760865Z",
     "iopub.status.idle": "2024-04-13T09:19:52.767774Z",
     "shell.execute_reply": "2024-04-13T09:19:52.766667Z"
    },
    "papermill": {
     "duration": 0.019983,
     "end_time": "2024-04-13T09:19:52.769826",
     "exception": false,
     "start_time": "2024-04-13T09:19:52.749843",
     "status": "completed"
    },
    "tags": []
   },
   "outputs": [
    {
     "data": {
      "text/plain": [
       "(7088, 58)"
      ]
     },
     "execution_count": 18,
     "metadata": {},
     "output_type": "execute_result"
    }
   ],
   "source": [
    "df_location.shape"
   ]
  },
  {
   "cell_type": "code",
   "execution_count": 19,
   "id": "b79f2ebe",
   "metadata": {
    "execution": {
     "iopub.execute_input": "2024-04-13T09:19:52.791097Z",
     "iopub.status.busy": "2024-04-13T09:19:52.790739Z",
     "iopub.status.idle": "2024-04-13T09:19:52.810622Z",
     "shell.execute_reply": "2024-04-13T09:19:52.809673Z"
    },
    "papermill": {
     "duration": 0.033108,
     "end_time": "2024-04-13T09:19:52.812773",
     "exception": false,
     "start_time": "2024-04-13T09:19:52.779665",
     "status": "completed"
    },
    "tags": []
   },
   "outputs": [],
   "source": [
    "df_location.dropna(inplace=True)"
   ]
  },
  {
   "cell_type": "code",
   "execution_count": 20,
   "id": "04ab72a3",
   "metadata": {
    "execution": {
     "iopub.execute_input": "2024-04-13T09:19:52.834515Z",
     "iopub.status.busy": "2024-04-13T09:19:52.833973Z",
     "iopub.status.idle": "2024-04-13T09:19:52.841830Z",
     "shell.execute_reply": "2024-04-13T09:19:52.840588Z"
    },
    "papermill": {
     "duration": 0.021343,
     "end_time": "2024-04-13T09:19:52.844192",
     "exception": false,
     "start_time": "2024-04-13T09:19:52.822849",
     "status": "completed"
    },
    "tags": []
   },
   "outputs": [
    {
     "data": {
      "text/plain": [
       "Index(['Unnamed: 0', 'Customer ID', 'Gender', 'Age', 'Under 30',\n",
       "       'Senior Citizen', 'Married', 'Dependents', 'Number of Dependents',\n",
       "       'Count_y', 'Country', 'State', 'City', 'Zip Code', 'Lat Long',\n",
       "       'Latitude', 'Longitude', 'Count_x', 'Quarter_x', 'Referred a Friend',\n",
       "       'Number of Referrals', 'Tenure in Months', 'Offer', 'Phone Service',\n",
       "       'Avg Monthly Long Distance Charges', 'Multiple Lines',\n",
       "       'Internet Service', 'Internet Type', 'Avg Monthly GB Download',\n",
       "       'Online Security', 'Online Backup', 'Device Protection Plan',\n",
       "       'Premium Tech Support', 'Streaming TV', 'Streaming Movies',\n",
       "       'Streaming Music', 'Unlimited Data', 'Contract', 'Paperless Billing',\n",
       "       'Payment Method', 'Monthly Charge', 'Total Charges', 'Total Refunds',\n",
       "       'Total Extra Data Charges', 'Total Long Distance Charges',\n",
       "       'Total Revenue', 'Count_y.1', 'Quarter_y', 'Satisfaction Score',\n",
       "       'Customer Status', 'Churn Label', 'Churn Value', 'Churn Score', 'CLTV',\n",
       "       'Churn Category', 'Churn Reason', 'ID', 'Population'],\n",
       "      dtype='object')"
      ]
     },
     "execution_count": 20,
     "metadata": {},
     "output_type": "execute_result"
    }
   ],
   "source": [
    "df_location.columns"
   ]
  },
  {
   "cell_type": "code",
   "execution_count": 21,
   "id": "c88649cc",
   "metadata": {
    "execution": {
     "iopub.execute_input": "2024-04-13T09:19:52.866206Z",
     "iopub.status.busy": "2024-04-13T09:19:52.865834Z",
     "iopub.status.idle": "2024-04-13T09:19:52.870176Z",
     "shell.execute_reply": "2024-04-13T09:19:52.869164Z"
    },
    "papermill": {
     "duration": 0.018068,
     "end_time": "2024-04-13T09:19:52.872319",
     "exception": false,
     "start_time": "2024-04-13T09:19:52.854251",
     "status": "completed"
    },
    "tags": []
   },
   "outputs": [],
   "source": [
    "# import plotly.express as px\n",
    "\n",
    "# lat_log_df=df_location[['Latitude','Longitude']]\n",
    "\n",
    "# fig = px.scatter_geo(lat_log_df, lat='Latitude', lon='Longitude', #size='mag',\n",
    "#                      title='Earthquakes Around the World')\n",
    "# fig.show()"
   ]
  },
  {
   "cell_type": "code",
   "execution_count": 22,
   "id": "bf851885",
   "metadata": {
    "execution": {
     "iopub.execute_input": "2024-04-13T09:19:52.895225Z",
     "iopub.status.busy": "2024-04-13T09:19:52.894889Z",
     "iopub.status.idle": "2024-04-13T09:19:53.472705Z",
     "shell.execute_reply": "2024-04-13T09:19:53.471545Z"
    },
    "papermill": {
     "duration": 0.592326,
     "end_time": "2024-04-13T09:19:53.475037",
     "exception": false,
     "start_time": "2024-04-13T09:19:52.882711",
     "status": "completed"
    },
    "tags": []
   },
   "outputs": [
    {
     "data": {
      "text/html": [
       "<div style=\"width:100%;\"><div style=\"position:relative;width:100%;height:0;padding-bottom:60%;\"><span style=\"color:#565656\">Make this Notebook Trusted to load map: File -> Trust Notebook</span><iframe srcdoc=\"&lt;!DOCTYPE html&gt;\n",
       "&lt;html&gt;\n",
       "&lt;head&gt;\n",
       "    \n",
       "    &lt;meta http-equiv=&quot;content-type&quot; content=&quot;text/html; charset=UTF-8&quot; /&gt;\n",
       "    \n",
       "        &lt;script&gt;\n",
       "            L_NO_TOUCH = false;\n",
       "            L_DISABLE_3D = false;\n",
       "        &lt;/script&gt;\n",
       "    \n",
       "    &lt;style&gt;html, body {width: 100%;height: 100%;margin: 0;padding: 0;}&lt;/style&gt;\n",
       "    &lt;style&gt;#map {position:absolute;top:0;bottom:0;right:0;left:0;}&lt;/style&gt;\n",
       "    &lt;script src=&quot;https://cdn.jsdelivr.net/npm/leaflet@1.9.3/dist/leaflet.js&quot;&gt;&lt;/script&gt;\n",
       "    &lt;script src=&quot;https://code.jquery.com/jquery-3.7.1.min.js&quot;&gt;&lt;/script&gt;\n",
       "    &lt;script src=&quot;https://cdn.jsdelivr.net/npm/bootstrap@5.2.2/dist/js/bootstrap.bundle.min.js&quot;&gt;&lt;/script&gt;\n",
       "    &lt;script src=&quot;https://cdnjs.cloudflare.com/ajax/libs/Leaflet.awesome-markers/2.0.2/leaflet.awesome-markers.js&quot;&gt;&lt;/script&gt;\n",
       "    &lt;link rel=&quot;stylesheet&quot; href=&quot;https://cdn.jsdelivr.net/npm/leaflet@1.9.3/dist/leaflet.css&quot;/&gt;\n",
       "    &lt;link rel=&quot;stylesheet&quot; href=&quot;https://cdn.jsdelivr.net/npm/bootstrap@5.2.2/dist/css/bootstrap.min.css&quot;/&gt;\n",
       "    &lt;link rel=&quot;stylesheet&quot; href=&quot;https://netdna.bootstrapcdn.com/bootstrap/3.0.0/css/bootstrap.min.css&quot;/&gt;\n",
       "    &lt;link rel=&quot;stylesheet&quot; href=&quot;https://cdn.jsdelivr.net/npm/@fortawesome/fontawesome-free@6.2.0/css/all.min.css&quot;/&gt;\n",
       "    &lt;link rel=&quot;stylesheet&quot; href=&quot;https://cdnjs.cloudflare.com/ajax/libs/Leaflet.awesome-markers/2.0.2/leaflet.awesome-markers.css&quot;/&gt;\n",
       "    &lt;link rel=&quot;stylesheet&quot; href=&quot;https://cdn.jsdelivr.net/gh/python-visualization/folium/folium/templates/leaflet.awesome.rotate.min.css&quot;/&gt;\n",
       "    \n",
       "            &lt;meta name=&quot;viewport&quot; content=&quot;width=device-width,\n",
       "                initial-scale=1.0, maximum-scale=1.0, user-scalable=no&quot; /&gt;\n",
       "            &lt;style&gt;\n",
       "                #map_63907611e1fa29cbf56ed356cce16527 {\n",
       "                    position: relative;\n",
       "                    width: 100.0%;\n",
       "                    height: 100.0%;\n",
       "                    left: 0.0%;\n",
       "                    top: 0.0%;\n",
       "                }\n",
       "                .leaflet-container { font-size: 1rem; }\n",
       "            &lt;/style&gt;\n",
       "        \n",
       "    &lt;script src=&quot;https://cdn.jsdelivr.net/gh/python-visualization/folium@main/folium/templates/leaflet_heat.min.js&quot;&gt;&lt;/script&gt;\n",
       "&lt;/head&gt;\n",
       "&lt;body&gt;\n",
       "    \n",
       "    \n",
       "            &lt;div class=&quot;folium-map&quot; id=&quot;map_63907611e1fa29cbf56ed356cce16527&quot; &gt;&lt;/div&gt;\n",
       "        \n",
       "&lt;/body&gt;\n",
       "&lt;script&gt;\n",
       "    \n",
       "    \n",
       "            var map_63907611e1fa29cbf56ed356cce16527 = L.map(\n",
       "                &quot;map_63907611e1fa29cbf56ed356cce16527&quot;,\n",
       "                {\n",
       "                    center: [36.7783, -119.4179],\n",
       "                    crs: L.CRS.EPSG3857,\n",
       "                    zoom: 6,\n",
       "                    zoomControl: true,\n",
       "                    preferCanvas: false,\n",
       "                }\n",
       "            );\n",
       "\n",
       "            \n",
       "\n",
       "        \n",
       "    \n",
       "            var tile_layer_c6caa26b4a988b794d9fcb9a34963923 = L.tileLayer(\n",
       "                &quot;https://tile.openstreetmap.org/{z}/{x}/{y}.png&quot;,\n",
       "                {&quot;attribution&quot;: &quot;\\u0026copy; \\u003ca href=\\&quot;https://www.openstreetmap.org/copyright\\&quot;\\u003eOpenStreetMap\\u003c/a\\u003e contributors&quot;, &quot;detectRetina&quot;: false, &quot;maxNativeZoom&quot;: 19, &quot;maxZoom&quot;: 19, &quot;minZoom&quot;: 0, &quot;noWrap&quot;: false, &quot;opacity&quot;: 1, &quot;subdomains&quot;: &quot;abc&quot;, &quot;tms&quot;: false}\n",
       "            );\n",
       "        \n",
       "    \n",
       "            tile_layer_c6caa26b4a988b794d9fcb9a34963923.addTo(map_63907611e1fa29cbf56ed356cce16527);\n",
       "        \n",
       "    \n",
       "            var heat_map_82618b7a6f06d7de123814425e875042 = L.heatLayer(\n",
       "                [[33.973616, -118.24902], [34.076259, -118.310715], [34.027337, -118.28515], [34.062125, -118.315709], [34.00709, -118.258681], [34.065875, -118.238728], [34.044639, -118.240413], [34.028331, -118.354338], [34.066303, -118.435479], [34.066303, -118.435479], [34.127194, -118.295647], [34.099869, -118.326843], [34.002642, -118.287596], [34.088017, -118.327168], [34.137412, -118.207607], [34.137412, -118.207607], [34.11572, -118.192754], [33.988543, -118.334081], [33.952714, -118.292061], [33.954017, -118.402447], [33.958149, -118.308441], [34.072945, -118.37267], [34.072945, -118.37267], [33.987945, -118.370442], [33.987945, -118.370442], [34.001617, -118.222274], [33.927254, -118.249826], [33.927254, -118.249826], [34.044271, -118.185237], [34.108833, -118.229715], [34.002028, -118.430656], [34.052917, -118.255178], [33.885811, -118.206459], [33.956228, -118.120993], [33.921793, -118.140588], [33.917145, -118.401554], [33.86532, -118.396336], [33.86532, -118.396336], [33.97803, -118.217141], [33.88856, -118.351813], [33.88856, -118.351813], [34.037037, -118.705803], [34.079449, -118.548306], [33.936291, -118.332639], [33.936291, -118.332639], [34.031529, -118.491156], [33.833699, -118.314387], [33.833699, -118.314387], [33.833181, -118.292062], [33.840399, -118.353714], [33.972119, -118.020188], [33.972119, -118.020188], [33.960891, -118.032222], [33.845706, -118.012204], [33.850504, -118.039892], [33.940619, -117.9513], [34.015217, -118.109962], [33.989524, -118.089299], [33.391181, -118.421305], [33.887676, -118.127289], [33.798266, -118.300237], [33.840524, -118.148403], [33.840524, -118.148403], [33.847755, -118.112532], [33.794209, -118.317354], [33.79499, -118.065591], [33.736387, -118.284363], [33.75462, -118.071128], [33.719221, -118.073596], [33.822295, -118.26411], [33.822295, -118.26411], [33.783047, -118.1486], [33.783047, -118.1486], [33.819814, -118.222416], [33.771612, -118.143866], [33.778436, -118.118648], [34.145695, -117.95982], [34.1528, -118.000482], [34.168686, -118.057505], [34.110444, -118.156957], [34.296574, -118.244839], [34.296574, -118.244839], [34.167465, -118.165327], [34.165383, -118.123752], [34.13946, -118.166649], [34.139402, -118.128658], [34.159007, -118.087353], [34.159007, -118.087353], [34.167926, -118.267539], [34.136306, -118.26036], [34.136306, -118.26036], [34.182378, -118.262922], [34.195386, -118.238508], [34.19829, -118.602203], [34.370378, -118.504118], [34.238208, -118.55029], [34.236683, -118.517588], [34.281911, -118.556218], [34.255442, -118.421314], [34.200175, -118.540958], [34.286131, -118.435969], [34.291273, -118.505104], [34.502432, -118.41459], [34.422519, -118.420717], [34.457005, -118.573726], [34.43987, -118.644609], [34.130992, -118.894673], [34.506627, -118.699048], [34.506627, -118.699048], [34.17847, -118.459472], [34.146957, -118.432138], [34.146957, -118.432138], [34.1692, -118.372498], [34.1692, -118.372498], [34.207295, -118.400022], [34.207295, -118.400022], [34.207295, -118.400022], [34.187599, -118.387125], [34.127621, -117.717863], [34.097345, -117.906736], [34.097345, -117.906736], [34.079934, -118.046695], [34.079934, -118.046695], [34.074492, -118.01462], [34.031441, -117.936436], [34.038983, -117.991372], [34.038983, -117.991372], [33.976753, -117.897367], [33.976753, -117.897367], [33.999992, -117.535395], [34.035602, -117.591528], [34.074087, -117.605618], [34.074087, -117.605618], [34.042286, -117.756106], [34.067932, -117.785168], [34.065108, -118.082791], [34.102119, -117.815532], [34.102119, -117.815532], [34.102119, -117.815532], [34.102119, -117.815532], [34.114772, -118.089431], [34.018354, -117.85492], [34.024405, -117.898722], [34.074736, -118.145959], [32.827184, -116.703729], [32.673483, -116.472863], [32.605012, -116.97595], [32.579134, -117.119009], [32.782501, -117.01611], [32.830852, -116.444601], [32.830852, -116.444601], [32.730264, -116.950963], [33.141265, -116.967221], [33.141265, -116.967221], [33.141265, -116.967221], [33.141265, -116.967221], [33.141265, -116.967221], [33.362575, -117.299644], [33.362575, -117.299644], [33.362575, -117.299644], [33.362575, -117.299644], [33.362575, -117.299644], [33.362575, -117.299644], [33.362575, -117.299644], [33.362575, -117.299644], [33.362575, -117.299644], [33.362575, -117.299644], [33.079834, -117.134275], [33.384345, -117.072619], [33.313828, -116.940501], [32.984395, -117.013454], [33.22784, -117.200024], [32.787836, -117.232376], [32.787836, -117.232376], [32.787836, -117.232376], [32.787836, -117.232376], [32.787836, -117.232376], [32.787836, -117.232376], [32.805518, -117.169052], [32.762506, -117.07245], [32.825086, -117.199424], [32.825086, -117.199424], [32.825086, -117.199424], [32.825086, -117.199424], [32.825086, -117.199424], [32.68674, -117.186612], [32.898613, -117.202937], [32.898613, -117.202937], [32.898613, -117.202937], [32.898613, -117.202937], [32.898613, -117.202937], [32.85723, -117.209774], [32.85723, -117.209774], [32.85723, -117.209774], [32.85723, -117.209774], [32.85723, -117.209774], [32.85723, -117.209774], [32.85723, -117.209774], [32.85723, -117.209774], [32.85723, -117.209774], [32.85723, -117.209774], [32.85723, -117.209774], [32.85723, -117.209774], [32.85723, -117.209774], [32.85723, -117.209774], [32.85723, -117.209774], [32.85723, -117.209774], [32.85723, -117.209774], [32.85723, -117.209774], [32.85723, -117.209774], [32.85723, -117.209774], [32.85723, -117.209774], [32.827238, -117.089287], [32.886925, -117.152162], [32.886925, -117.152162], [32.886925, -117.152162], [32.886925, -117.152162], [32.886925, -117.152162], [32.886925, -117.152162], [32.886925, -117.152162], [32.886925, -117.152162], [32.886925, -117.152162], [32.886925, -117.152162], [33.000269, -117.072093], [32.961064, -117.134917], [32.961064, -117.134917], [32.961064, -117.134917], [32.961064, -117.134917], [32.961064, -117.134917], [32.961064, -117.134917], [32.957195, -117.202542], [32.957195, -117.202542], [32.957195, -117.202542], [32.957195, -117.202542], [32.957195, -117.202542], [32.957195, -117.202542], [32.957195, -117.202542], [32.957195, -117.202542], [32.957195, -117.202542], [32.957195, -117.202542], [32.555828, -117.040073], [33.537646, -116.291089], [33.537646, -116.291089], [33.762759, -116.324817], [32.690654, -115.431225], [32.730583, -115.501083], [32.730583, -115.501083], [33.906496, -116.569499], [33.745746, -116.514215], [32.790282, -115.689559], [33.53604, -116.119222], [33.849263, -116.382778], [34.457829, -116.139589], [33.972293, -116.654195], [34.1678, -116.86433], [35.28952, -116.092214], [34.278967, -116.773825], [34.059722, -117.39104], [33.982787, -117.057627], [34.255203, -117.175654], [34.875144, -116.821698], [34.049671, -117.468896], [34.702766, -116.093376], [34.508417, -116.856103], [34.508417, -116.856103], [34.103578, -117.04054], [34.441123, -117.537886], [34.003243, -117.138286], [34.064073, -117.166158], [34.186211, -117.07683], [34.186211, -117.07683], [35.924252, -116.188668], [34.243088, -116.830015], [34.486835, -117.362274], [34.567058, -117.362329], [34.358321, -117.618263], [35.013299, -116.834092], [34.04597, -117.011825], [34.183286, -117.221722], [34.084909, -117.258107], [33.930931, -117.361788], [33.930931, -117.361788], [34.004379, -117.447864], [33.888323, -117.277533], [33.888323, -117.277533], [33.705836, -117.318204], [33.527605, -116.666551], [33.527605, -116.666551], [33.739415, -116.968339], [33.88274, -117.224878], [33.970661, -117.255039], [33.787298, -117.320676], [33.707483, -117.200006], [33.707483, -117.200006], [33.69887, -117.25071], [33.475493, -117.219551], [33.540604, -117.10909], [33.507255, -117.029473], [33.507255, -117.029473], [33.507255, -117.029473], [33.507255, -117.029473], [33.507255, -117.029473], [33.507255, -117.029473], [33.507255, -117.029473], [33.507255, -117.029473], [33.507255, -117.029473], [33.720359, -117.733655], [33.698728, -117.67768], [33.643095, -117.810896], [33.600987, -117.862734], [33.678591, -117.905471], [33.645672, -117.922613], [33.477923, -117.705314], [33.644849, -117.684254], [33.666301, -117.969501], [33.723579, -118.005441], [33.679659, -118.016195], [33.603282, -117.821841], [33.601309, -117.902304], [33.606336, -117.893042], [33.782346, -117.635263], [33.631119, -117.567346], [33.569186, -117.640055], [33.748478, -117.858918], [33.766004, -117.786763], [33.766004, -117.786763], [33.930199, -117.862898], [33.764018, -117.931507], [33.925833, -117.559639], [33.792791, -117.789749], [33.881158, -117.854783], [33.819385, -117.600213], [33.897253, -117.792202], [33.884073, -117.732197], [34.360261, -119.306383], [34.360261, -119.306383], [34.279221, -119.221437], [34.279221, -119.221437], [34.441398, -119.513163], [34.312945, -118.858169], [34.223244, -119.18012], [34.432843, -118.730106], [34.402343, -119.094824], [34.402343, -119.094824], [34.269449, -118.768471], [34.297628, -119.014627], [34.297628, -119.014627], [34.420998, -119.60137], [34.419203, -119.710008], [34.419203, -119.710008], [34.438581, -119.685368], [34.457541, -119.631072], [34.437945, -119.77191], [34.437945, -119.77191], [35.869626, -119.498771], [35.869626, -119.498771], [36.315979, -119.710852], [36.315979, -119.710852], [35.916943, -120.129921], [35.523991, -118.400432], [35.523991, -118.400432], [35.451402, -119.488413], [36.057458, -118.591951], [36.186867, -120.387793], [36.186867, -120.387793], [36.04533, -119.532424], [35.772244, -119.209689], [35.846067, -119.004073], [36.301689, -119.018233], [36.301689, -119.018233], [34.907911, -119.234281], [36.29878, -119.201028], [35.215731, -119.57013], [36.217864, -120.080117], [35.852892, -118.397782], [34.845861, -118.885163], [36.462671, -118.997291], [36.462671, -118.997291], [35.38381, -119.730885], [35.38381, -119.730885], [36.008958, -118.891593], [35.861928, -118.636698], [36.527243, -118.594938], [35.490705, -119.286833], [35.490705, -119.286833], [36.303793, -119.375646], [35.652242, -119.4464], [35.710244, -118.881679], [35.392599, -119.245341], [35.279984, -120.824288], [34.631362, -120.238218], [34.601055, -120.382917], [34.757477, -120.550507], [35.369553, -120.763864], [35.050345, -120.489599], [35.165668, -120.655842], [34.624399, -120.137875], [35.536115, -120.739231], [35.536115, -120.739231], [35.097323, -118.171288], [35.358953, -118.527064], [36.869584, -118.189241], [35.214982, -118.59049], [34.659579, -118.584212], [34.727529, -118.153098], [34.613476, -118.256358], [34.445239, -117.894868], [34.903052, -118.411251], [35.073777, -118.652112], [34.39583, -117.734568], [36.798882, -120.019511], [36.798882, -120.019511], [36.488056, -120.407691], [36.814539, -119.711868], [36.397745, -120.119911], [36.397745, -120.119911], [36.807595, -118.901544], [36.807595, -118.901544], [36.478239, -119.52137], [36.902954, -120.194274], [37.004068, -119.930027], [36.696759, -119.024051], [36.600185, -119.175655], [36.452211, -119.94575], [36.819628, -119.440414], [37.223, -119.001021], [36.959731, -120.653519], [36.993666, -119.348267], [36.719141, -119.202677], [36.739385, -119.753649], [36.739385, -119.753649], [36.768774, -119.762633], [36.78724, -119.827813], [36.878709, -119.7645], [36.732694, -119.783786], [36.793601, -119.761131], [36.554618, -121.922239], [36.460611, -121.852507], [36.596271, -121.442274], [36.248708, -121.386617], [36.220761, -120.980777], [36.689582, -121.758398], [36.587497, -121.944815], [36.125529, -120.864443], [36.625114, -121.823565], [37.509366, -122.306132], [37.57028, -122.365778], [37.380662, -122.086022], [37.380662, -122.086022], [37.419725, -122.062947], [37.461251, -122.235414], [37.410567, -122.297152], [37.499411, -122.196318], [37.421633, -122.009613], [37.789168, -122.395009], [37.768881, -122.395521], [37.791998, -122.408653], [37.794487, -122.42227], [37.786031, -122.437301], [37.770533, -122.445121], [37.776718, -122.495781], [37.800254, -122.436975], [37.800254, -122.436975], [37.736535, -122.45732], [37.736535, -122.45732], [37.820894, -122.369725], [37.722302, -122.491129], [37.556634, -122.317723], [37.538309, -122.305109], [37.980057, -121.801599], [37.83323, -121.601461], [37.83323, -121.601461], [38.629618, -122.593216], [37.990118, -122.012188], [37.815459, -121.977203], [38.287136, -122.02711], [38.265899, -121.939461], [38.265899, -121.939461], [37.505768, -121.962472], [37.516791, -121.899117], [37.656695, -122.048361], [37.708327, -122.083473], [37.907777, -122.127161], [38.014457, -122.115432], [38.014457, -122.115432], [37.555473, -122.080312], [37.827946, -122.107185], [38.489789, -122.27011], [37.873916, -122.20522], [37.996462, -122.293716], [37.713926, -121.928425], [38.148862, -121.737696], [38.027218, -122.23463], [38.554383, -122.474773], [37.687264, -122.15728], [37.676249, -122.132415], [37.766556, -121.976784], [37.59485, -122.051521], [37.685052, -121.912061], [38.161321, -122.271588], [38.104705, -122.247387], [37.916648, -122.008483], [37.776523, -122.219268], [37.776523, -122.219268], [37.803883, -122.208417], [37.83726, -122.287648], [37.834341, -122.26437], [37.84551, -122.235181], [37.863843, -122.275684], [37.871416, -122.246597], [37.871416, -122.246597], [37.890274, -122.295192], [37.897753, -122.279391], [37.872902, -122.303708], [37.945288, -122.383941], [37.941456, -122.320968], [37.972662, -122.491452], [37.937082, -122.532369], [38.129308, -122.834815], [38.129308, -122.834815], [37.901371, -122.572024], [38.135897, -122.563683], [38.135897, -122.563683], [38.112166, -122.634384], [38.052209, -122.775567], [37.848641, -122.515692], [37.848641, -122.515692], [37.921137, -122.657562], [38.339996, -122.935056], [37.449537, -121.994813], [37.013471, -121.877877], [36.878364, -121.629781], [37.171727, -122.142961], [37.171727, -122.142961], [37.171727, -122.142961], [37.306612, -122.080621], [37.306612, -122.080621], [37.114335, -122.237162], [37.114335, -122.237162], [37.222842, -121.988727], [37.233034, -121.947427], [36.810568, -121.503022], [36.993451, -122.098858], [36.974575, -121.991149], [37.34667, -121.910019], [37.34667, -121.910019], [37.343827, -121.883119], [37.311088, -121.961786], [37.304681, -121.809955], [37.304681, -121.809955], [37.375156, -121.795867], [37.375156, -121.795867], [37.375156, -121.795867], [37.305622, -122.000887], [37.305622, -122.000887], [37.277592, -121.986477], [37.424655, -121.74841], [37.42765, -121.945416], [37.28682, -121.723877], [37.28682, -121.723877], [37.270938, -121.851046], [38.033219, -121.297433], [38.049457, -121.21653], [38.049457, -121.21653], [38.029729, -121.387999], [38.200231, -121.235034], [38.200231, -121.235034], [38.200231, -121.235034], [38.071327, -120.632221], [38.071327, -120.632221], [38.32153, -120.236358], [38.208336, -120.339938], [38.227285, -121.02789], [37.873283, -121.292034], [38.358464, -120.579304], [38.358464, -120.579304], [38.184914, -120.364085], [38.184914, -120.364085], [38.047746, -121.030499], [38.166791, -121.14207], [38.123544, -121.159078], [38.123544, -121.159078], [38.147852, -120.440124], [38.055562, -120.456298], [38.156971, -120.849231], [37.321233, -120.656354], [37.321233, -120.656354], [37.818589, -120.256995], [37.818589, -120.256995], [37.394411, -120.127262], [38.085839, -120.37855], [37.435664, -121.049056], [37.422961, -120.765493], [37.524721, -120.757977], [37.147198, -121.120161], [37.605926, -120.69955], [37.5923, -120.853288], [37.666587, -120.411517], [37.80821, -121.308401], [38.109125, -120.078597], [37.526791, -119.99437], [38.121601, -120.133915], [37.40122, -120.514191], [37.671806, -121.007575], [37.671806, -121.007575], [37.621458, -121.012295], [37.639029, -120.964772], [37.672906, -120.946594], [37.672906, -120.946594], [37.716186, -121.025836], [37.670526, -120.877572], [37.785033, -120.776141], [37.410236, -121.320337], [38.224869, -119.755729], [38.224869, -119.755729], [37.329725, -120.306399], [37.734971, -120.954271], [37.521708, -120.426843], [37.316807, -120.855753], [37.939768, -120.188002], [38.460517, -122.790335], [38.526941, -122.709096], [38.526941, -122.709096], [38.731055, -123.316553], [39.710591, -123.682799], [39.361283, -123.784599], [39.239818, -123.565432], [39.239818, -123.565432], [38.493888, -122.777141], [38.434362, -122.86891], [38.848082, -123.50608], [38.93706, -123.118111], [39.305545, -123.743697], [39.182916, -123.552571], [39.12334, -122.838198], [39.12334, -122.838198], [39.094102, -123.500853], [39.222323, -122.985488], [38.888351, -123.239647], [40.965011, -124.015255], [40.665952, -124.240051], [40.210895, -123.86], [40.142256, -123.852927], [40.485849, -124.163234], [41.950683, -124.097094], [41.444606, -123.471895], [41.162295, -124.027381], [38.626128, -121.328011], [38.69508, -121.271616], [38.384648, -121.578701], [38.508735, -121.678813], [38.683605, -120.811852], [38.434138, -121.30587], [38.652065, -121.25441], [38.672638, -121.147403], [38.631489, -120.015167], [38.815515, -120.916997], [38.689174, -121.218435], [38.400264, -120.641274], [38.833554, -121.498102], [38.489273, -120.891614], [38.470423, -121.114897], [38.432145, -120.77069], [38.240419, -121.587535], [39.043387, -121.409837], [39.043387, -121.409837], [38.392559, -121.225093], [38.578604, -122.024579], [38.71967, -121.862416], [38.983388, -120.988814], [38.748316, -120.675512], [39.197215, -120.83679], [39.197215, -120.83679], [38.851842, -120.076204], [39.003358, -121.022539], [38.733908, -120.453416], [38.591134, -121.161585], [38.35363, -121.44195], [38.35363, -121.44195], [38.694081, -121.694431], [38.694081, -121.694431], [38.584505, -121.491956], [38.550722, -121.457314], [38.53508, -121.444144], [38.625096, -121.383658], [38.475465, -121.443625], [38.486938, -121.395805], [38.685069, -121.543709], [38.685069, -121.543709], [38.691607, -121.602284], [38.646096, -121.442433], [39.440687, -121.263583], [39.449794, -121.936372], [40.171312, -121.120605], [40.171312, -121.120605], [39.461768, -121.195825], [39.562239, -121.14836], [39.381174, -121.21191], [39.381174, -121.21191], [40.077028, -121.494168], [39.099204, -121.137962], [39.033058, -121.895718], [39.473896, -121.415927], [39.172777, -121.805845], [40.022184, -121.062384], [40.022184, -121.062384], [39.075694, -121.70606], [39.075694, -121.70606], [40.587919, -122.464732], [41.171578, -120.913161], [41.171578, -120.913161], [40.448632, -122.306657], [40.448632, -122.306657], [41.096569, -121.879082], [40.946785, -121.719489], [41.388397, -122.794636], [41.486953, -120.913975], [40.692523, -122.369876], [40.336392, -122.448533], [41.949216, -122.050062], [40.586588, -122.903677], [41.017282, -121.468945], [41.528541, -122.955018], [40.789799, -121.474529], [41.962127, -122.527696], [40.524535, -122.647172], [41.816595, -122.948287], [40.883853, -122.418258], [40.704293, -122.803899], [40.704293, -122.803899], [40.059385, -122.091481], [41.10831, -121.360362], [40.331975, -121.460674], [40.656287, -121.428965], [40.656287, -121.428965], [39.884395, -122.587513], [39.884395, -122.587513], [40.343213, -121.815412], [40.367964, -122.937379], [40.186772, -122.388361], [40.186772, -122.388361], [40.497441, -121.827524], [39.955164, -122.018567], [40.759401, -122.939337], [41.280341, -120.150381], [41.280341, -120.150381], [39.600599, -120.636358], [39.600599, -120.636358], [39.559709, -120.345639], [41.027281, -120.669427], [40.345949, -120.081187], [40.271535, -121.018087], [40.271535, -121.018087], [39.117018, -120.212535], [39.246654, -120.029273], [39.24124, -120.054765], [38.911577, -120.106169]],\n",
       "                {&quot;blur&quot;: 15, &quot;maxZoom&quot;: 18, &quot;minOpacity&quot;: 0.5, &quot;radius&quot;: 25}\n",
       "            );\n",
       "        \n",
       "    \n",
       "            heat_map_82618b7a6f06d7de123814425e875042.addTo(map_63907611e1fa29cbf56ed356cce16527);\n",
       "        \n",
       "&lt;/script&gt;\n",
       "&lt;/html&gt;\" style=\"position:absolute;width:100%;height:100%;left:0;top:0;border:none !important;\" allowfullscreen webkitallowfullscreen mozallowfullscreen></iframe></div></div>"
      ],
      "text/plain": [
       "<folium.folium.Map at 0x7fea6103a890>"
      ]
     },
     "execution_count": 22,
     "metadata": {},
     "output_type": "execute_result"
    }
   ],
   "source": [
    "import folium\n",
    "from folium.plugins import HeatMap\n",
    "\n",
    "# Create a base map centered around California\n",
    "california_map = folium.Map(location=[36.7783, -119.4179], zoom_start=6)\n",
    "\n",
    "# Assuming your dataset has columns 'Latitude', 'Longitude', and 'Orders'\n",
    "# Replace 'df' with your actual DataFrame name\n",
    "heat_data = [[row['Latitude'], row['Longitude']] for index, row in df_location.iterrows()]\n",
    "\n",
    "# Add a heat map layer\n",
    "HeatMap(heat_data).add_to(california_map)\n",
    "\n",
    "# Display the map\n",
    "california_map\n"
   ]
  },
  {
   "cell_type": "code",
   "execution_count": null,
   "id": "e5a4e0a8",
   "metadata": {
    "papermill": {
     "duration": 0.010393,
     "end_time": "2024-04-13T09:19:53.496161",
     "exception": false,
     "start_time": "2024-04-13T09:19:53.485768",
     "status": "completed"
    },
    "tags": []
   },
   "outputs": [],
   "source": []
  }
 ],
 "metadata": {
  "kaggle": {
   "accelerator": "none",
   "dataSources": [
    {
     "sourceId": 171649373,
     "sourceType": "kernelVersion"
    }
   ],
   "dockerImageVersionId": 30684,
   "isGpuEnabled": false,
   "isInternetEnabled": true,
   "language": "python",
   "sourceType": "notebook"
  },
  "kernelspec": {
   "display_name": "Python 3 (ipykernel)",
   "language": "python",
   "name": "python3"
  },
  "language_info": {
   "codemirror_mode": {
    "name": "ipython",
    "version": 3
   },
   "file_extension": ".py",
   "mimetype": "text/x-python",
   "name": "python",
   "nbconvert_exporter": "python",
   "pygments_lexer": "ipython3",
   "version": "3.9.7"
  },
  "papermill": {
   "default_parameters": {},
   "duration": 24.050049,
   "end_time": "2024-04-13T09:19:54.127966",
   "environment_variables": {},
   "exception": null,
   "input_path": "__notebook__.ipynb",
   "output_path": "__notebook__.ipynb",
   "parameters": {},
   "start_time": "2024-04-13T09:19:30.077917",
   "version": "2.5.0"
  }
 },
 "nbformat": 4,
 "nbformat_minor": 5
}
